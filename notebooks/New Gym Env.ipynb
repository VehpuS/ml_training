{
 "cells": [
  {
   "cell_type": "markdown",
   "metadata": {},
   "source": [
    "# Testing a new environment"
   ]
  },
  {
   "cell_type": "markdown",
   "metadata": {},
   "source": [
    "https://stackoverflow.com/questions/45068568/is-it-possible-to-create-a-new-gym-environment-in-openai"
   ]
  },
  {
   "cell_type": "markdown",
   "metadata": {},
   "source": [
    "## How to create new environments for Gym\n",
    "\n",
    "* Create a new repo called gym-foo, which should also be a PIP package.\n",
    "\n",
    "* A good example is https://github.com/openai/gym-soccer.\n",
    "\n",
    "* It should have at least the following files:\n",
    "  ```sh\n",
    "  gym-foo/\n",
    "    README.md\n",
    "    setup.py\n",
    "    gym_foo/\n",
    "      __init__.py\n",
    "      envs/\n",
    "        __init__.py\n",
    "        foo_env.py\n",
    "        foo_extrahard_env.py\n",
    "  ```\n",
    "\n",
    "* `gym-foo/setup.py` should have:\n",
    "\n",
    "  ```python\n",
    "  from setuptools import setup\n",
    "\n",
    "  setup(name='gym_foo',\n",
    "        version='0.0.1',\n",
    "        install_requires=['gym']  # And any other dependencies foo needs\n",
    "  )  \n",
    "  ```\n",
    "\n",
    "* `gym-foo/gym_foo/__init__.py` should have:\n",
    "  ```python\n",
    "  from gym.envs.registration import register\n",
    "\n",
    "  register(\n",
    "      id='foo-v0',\n",
    "      entry_point='gym_foo.envs:FooEnv',\n",
    "  )\n",
    "  register(\n",
    "      id='foo-extrahard-v0',\n",
    "      entry_point='gym_foo.envs:FooExtraHardEnv',\n",
    "  )\n",
    "  ```\n",
    "\n",
    "* `gym-foo/gym_foo/envs/__init__.py` should have:\n",
    "  ```python\n",
    "  from gym_foo.envs.foo_env import FooEnv\n",
    "  from gym_foo.envs.foo_extrahard_env import FooExtraHardEnv\n",
    "  ```\n",
    "\n",
    "* `gym-foo/gym_foo/envs/foo_env.py` should look something like:\n",
    "  ```python\n",
    "  import gym\n",
    "  from gym import error, spaces, utils\n",
    "  from gym.utils import seeding\n",
    "\n",
    "  class FooEnv(gym.Env):\n",
    "    metadata = {'render.modes': ['human']}\n",
    "\n",
    "    def __init__(self):\n",
    "      ...\n",
    "    def _step(self, action):\n",
    "      ...\n",
    "    def _reset(self):\n",
    "      ...\n",
    "    def _render(self, mode='human', close=False):\n",
    "      ...\n",
    "  ```\n"
   ]
  },
  {
   "cell_type": "code",
   "execution_count": 1,
   "metadata": {
    "ExecuteTime": {
     "end_time": "2017-11-12T20:41:13.375859Z",
     "start_time": "2017-11-12T20:41:12.861146Z"
    },
    "scrolled": true
   },
   "outputs": [],
   "source": [
    "from gym.envs.registration import register\n",
    "import gym\n",
    "from gym import error, spaces, utils\n",
    "from gym.utils import seeding\n",
    "import numpy as np\n",
    "\n",
    "\n",
    "class FooEnv(gym.Env):\n",
    "    metadata = {'render.modes': ['text']}\n",
    "\n",
    "    def __init__(self):\n",
    "        high = np.array([3, 4, 5])  # TODO: example value only\n",
    "        self.action_space = spaces.Discrete(2)\n",
    "        self.observation_space = spaces.Box(-high, high)\n",
    "        self._seed()\n",
    "        self.state = None\n",
    "\n",
    "    def _seed(self, seed=None):\n",
    "        self.np_random, seed = seeding.np_random(seed)\n",
    "        return [seed]\n",
    "\n",
    "    def _step(self, action):\n",
    "        assert self.action_space.contains(action), \"%r (%s) invalid\"%(action, type(action))\n",
    "        state = self.state\n",
    "\n",
    "    def _reset(self):\n",
    "        self.state = self.np_random.uniform(low=-0.05, high=0.05, size=(4,))\n",
    "        self.steps_beyond_done = None\n",
    "        return np.array(self.state)\n",
    "\n",
    "    def _render(self, mode='text', close=False):\n",
    "        assert mode == 'text' or close\n",
    "        if mode == 'text':\n",
    "            print(self.state)\n",
    "\n",
    "register(\n",
    "    id='foo-v0',\n",
    "    entry_point=FooEnv,\n",
    ")"
   ]
  },
  {
   "cell_type": "code",
   "execution_count": 6,
   "metadata": {
    "ExecuteTime": {
     "end_time": "2017-11-12T20:41:52.238422Z",
     "start_time": "2017-11-12T20:41:52.217863Z"
    }
   },
   "outputs": [
    {
     "name": "stdout",
     "output_type": "stream",
     "text": [
      "Discrete(2)\n",
      "Box(3,)\n",
      "(-inf, inf)\n",
      "[-0.048292    0.0413046  -0.00485422 -0.02624112]\n",
      "1\n",
      "Help on Discrete in module gym.spaces.discrete object:\n",
      "\n",
      "class Discrete(gym.core.Space)\n",
      " |  {0,1,...,n-1}\n",
      " |  \n",
      " |  Example usage:\n",
      " |  self.observation_space = spaces.Discrete(2)\n",
      " |  \n",
      " |  Method resolution order:\n",
      " |      Discrete\n",
      " |      gym.core.Space\n",
      " |      builtins.object\n",
      " |  \n",
      " |  Methods defined here:\n",
      " |  \n",
      " |  __eq__(self, other)\n",
      " |      Return self==value.\n",
      " |  \n",
      " |  __init__(self, n)\n",
      " |      Initialize self.  See help(type(self)) for accurate signature.\n",
      " |  \n",
      " |  __repr__(self)\n",
      " |      Return repr(self).\n",
      " |  \n",
      " |  contains(self, x)\n",
      " |      Return boolean specifying if x is a valid\n",
      " |      member of this space\n",
      " |  \n",
      " |  sample(self)\n",
      " |      Uniformly randomly sample a random element of this space\n",
      " |  \n",
      " |  ----------------------------------------------------------------------\n",
      " |  Data descriptors defined here:\n",
      " |  \n",
      " |  shape\n",
      " |  \n",
      " |  ----------------------------------------------------------------------\n",
      " |  Data and other attributes defined here:\n",
      " |  \n",
      " |  __hash__ = None\n",
      " |  \n",
      " |  ----------------------------------------------------------------------\n",
      " |  Methods inherited from gym.core.Space:\n",
      " |  \n",
      " |  from_jsonable(self, sample_n)\n",
      " |      Convert a JSONable data type to a batch of samples from this space.\n",
      " |  \n",
      " |  to_jsonable(self, sample_n)\n",
      " |      Convert a batch of samples from this space to a JSONable data type.\n",
      " |  \n",
      " |  ----------------------------------------------------------------------\n",
      " |  Data descriptors inherited from gym.core.Space:\n",
      " |  \n",
      " |  __dict__\n",
      " |      dictionary for instance variables (if defined)\n",
      " |  \n",
      " |  __weakref__\n",
      " |      list of weak references to the object (if defined)\n",
      "\n"
     ]
    }
   ],
   "source": [
    "env = gym.make('foo-v0')\n",
    "print(env.action_space)\n",
    "print(env.observation_space)\n",
    "print(env.reward_range)\n",
    "print(env.reset())\n",
    "print(env.action_space.sample())\n",
    "\n",
    "help(env.action_space)\n"
   ]
  }
 ],
 "metadata": {
  "kernelspec": {
   "display_name": "Python 3",
   "language": "python",
   "name": "python3"
  },
  "language_info": {
   "codemirror_mode": {
    "name": "ipython",
    "version": 3
   },
   "file_extension": ".py",
   "mimetype": "text/x-python",
   "name": "python",
   "nbconvert_exporter": "python",
   "pygments_lexer": "ipython3",
   "version": "3.6.3"
  },
  "toc": {
   "nav_menu": {},
   "number_sections": true,
   "sideBar": true,
   "skip_h1_title": false,
   "toc_cell": false,
   "toc_position": {},
   "toc_section_display": "block",
   "toc_window_display": true
  },
  "varInspector": {
   "cols": {
    "lenName": 16,
    "lenType": 16,
    "lenVar": 40
   },
   "kernels_config": {
    "python": {
     "delete_cmd_postfix": "",
     "delete_cmd_prefix": "del ",
     "library": "var_list.py",
     "varRefreshCmd": "print(var_dic_list())"
    },
    "r": {
     "delete_cmd_postfix": ") ",
     "delete_cmd_prefix": "rm(",
     "library": "var_list.r",
     "varRefreshCmd": "cat(var_dic_list()) "
    }
   },
   "types_to_exclude": [
    "module",
    "function",
    "builtin_function_or_method",
    "instance",
    "_Feature"
   ],
   "window_display": false
  }
 },
 "nbformat": 4,
 "nbformat_minor": 2
}
